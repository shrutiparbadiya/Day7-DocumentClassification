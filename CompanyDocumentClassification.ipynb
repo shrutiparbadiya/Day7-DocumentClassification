{
 "cells": [
  {
   "cell_type": "code",
   "execution_count": null,
   "id": "e0a1c1e0",
   "metadata": {},
   "outputs": [],
   "source": [
    "!pip install transformers datasets torch scikit-learn"
   ]
  },
  {
   "cell_type": "code",
   "execution_count": 1,
   "id": "abf8db5d",
   "metadata": {},
   "outputs": [
    {
     "data": {
      "text/html": [
       "<div>\n",
       "<style scoped>\n",
       "    .dataframe tbody tr th:only-of-type {\n",
       "        vertical-align: middle;\n",
       "    }\n",
       "\n",
       "    .dataframe tbody tr th {\n",
       "        vertical-align: top;\n",
       "    }\n",
       "\n",
       "    .dataframe thead th {\n",
       "        text-align: right;\n",
       "    }\n",
       "</style>\n",
       "<table border=\"1\" class=\"dataframe\">\n",
       "  <thead>\n",
       "    <tr style=\"text-align: right;\">\n",
       "      <th></th>\n",
       "      <th>text</th>\n",
       "      <th>label</th>\n",
       "      <th>word_count</th>\n",
       "    </tr>\n",
       "  </thead>\n",
       "  <tbody>\n",
       "    <tr>\n",
       "      <th>0</th>\n",
       "      <td>order id  10718 shipping details  ship name  k...</td>\n",
       "      <td>ShippingOrder</td>\n",
       "      <td>120</td>\n",
       "    </tr>\n",
       "    <tr>\n",
       "      <th>1</th>\n",
       "      <td>invoice order id  10707 customer id  arout ord...</td>\n",
       "      <td>invoice</td>\n",
       "      <td>66</td>\n",
       "    </tr>\n",
       "    <tr>\n",
       "      <th>2</th>\n",
       "      <td>order id  10448 shipping details  ship name  r...</td>\n",
       "      <td>ShippingOrder</td>\n",
       "      <td>96</td>\n",
       "    </tr>\n",
       "    <tr>\n",
       "      <th>3</th>\n",
       "      <td>invoice order id  11068 customer id  queen ord...</td>\n",
       "      <td>invoice</td>\n",
       "      <td>68</td>\n",
       "    </tr>\n",
       "    <tr>\n",
       "      <th>4</th>\n",
       "      <td>order id  10656 shipping details  ship name  g...</td>\n",
       "      <td>ShippingOrder</td>\n",
       "      <td>109</td>\n",
       "    </tr>\n",
       "    <tr>\n",
       "      <th>...</th>\n",
       "      <td>...</td>\n",
       "      <td>...</td>\n",
       "      <td>...</td>\n",
       "    </tr>\n",
       "    <tr>\n",
       "      <th>2671</th>\n",
       "      <td>order id  10326 shipping details  ship name  b...</td>\n",
       "      <td>ShippingOrder</td>\n",
       "      <td>111</td>\n",
       "    </tr>\n",
       "    <tr>\n",
       "      <th>2672</th>\n",
       "      <td>purchase orders order id order date customer n...</td>\n",
       "      <td>purchase Order</td>\n",
       "      <td>39</td>\n",
       "    </tr>\n",
       "    <tr>\n",
       "      <th>2673</th>\n",
       "      <td>invoice order id  10460 customer id  folko ord...</td>\n",
       "      <td>invoice</td>\n",
       "      <td>59</td>\n",
       "    </tr>\n",
       "    <tr>\n",
       "      <th>2674</th>\n",
       "      <td>stock report for 2018-01 category   meat poult...</td>\n",
       "      <td>report</td>\n",
       "      <td>46</td>\n",
       "    </tr>\n",
       "    <tr>\n",
       "      <th>2675</th>\n",
       "      <td>purchase orders order id order date customer n...</td>\n",
       "      <td>purchase Order</td>\n",
       "      <td>36</td>\n",
       "    </tr>\n",
       "  </tbody>\n",
       "</table>\n",
       "<p>2676 rows × 3 columns</p>\n",
       "</div>"
      ],
      "text/plain": [
       "                                                   text           label  \\\n",
       "0     order id  10718 shipping details  ship name  k...   ShippingOrder   \n",
       "1     invoice order id  10707 customer id  arout ord...         invoice   \n",
       "2     order id  10448 shipping details  ship name  r...   ShippingOrder   \n",
       "3     invoice order id  11068 customer id  queen ord...         invoice   \n",
       "4     order id  10656 shipping details  ship name  g...   ShippingOrder   \n",
       "...                                                 ...             ...   \n",
       "2671  order id  10326 shipping details  ship name  b...   ShippingOrder   \n",
       "2672  purchase orders order id order date customer n...  purchase Order   \n",
       "2673  invoice order id  10460 customer id  folko ord...         invoice   \n",
       "2674  stock report for 2018-01 category   meat poult...          report   \n",
       "2675  purchase orders order id order date customer n...  purchase Order   \n",
       "\n",
       "      word_count  \n",
       "0            120  \n",
       "1             66  \n",
       "2             96  \n",
       "3             68  \n",
       "4            109  \n",
       "...          ...  \n",
       "2671         111  \n",
       "2672          39  \n",
       "2673          59  \n",
       "2674          46  \n",
       "2675          36  \n",
       "\n",
       "[2676 rows x 3 columns]"
      ]
     },
     "execution_count": 1,
     "metadata": {},
     "output_type": "execute_result"
    }
   ],
   "source": [
    "import pandas as pd\n",
    "\n",
    "df = pd.read_csv(\"C:\\\\Users\\\\dell\\\\PycharmProjects\\\\Day6-InvoiceClassification\\\\Company.csv\")\n",
    "\n",
    "df"
   ]
  },
  {
   "cell_type": "code",
   "execution_count": 2,
   "id": "3596607f",
   "metadata": {},
   "outputs": [
    {
     "name": "stderr",
     "output_type": "stream",
     "text": [
      "[nltk_data] Downloading package stopwords to\n",
      "[nltk_data]     C:\\Users\\dell\\AppData\\Roaming\\nltk_data...\n",
      "[nltk_data]   Package stopwords is already up-to-date!\n"
     ]
    },
    {
     "data": {
      "text/html": [
       "<div>\n",
       "<style scoped>\n",
       "    .dataframe tbody tr th:only-of-type {\n",
       "        vertical-align: middle;\n",
       "    }\n",
       "\n",
       "    .dataframe tbody tr th {\n",
       "        vertical-align: top;\n",
       "    }\n",
       "\n",
       "    .dataframe thead th {\n",
       "        text-align: right;\n",
       "    }\n",
       "</style>\n",
       "<table border=\"1\" class=\"dataframe\">\n",
       "  <thead>\n",
       "    <tr style=\"text-align: right;\">\n",
       "      <th></th>\n",
       "      <th>text</th>\n",
       "      <th>label</th>\n",
       "      <th>word_count</th>\n",
       "      <th>Cleaned Text</th>\n",
       "    </tr>\n",
       "  </thead>\n",
       "  <tbody>\n",
       "    <tr>\n",
       "      <th>0</th>\n",
       "      <td>order id  10718 shipping details  ship name  k...</td>\n",
       "      <td>ShippingOrder</td>\n",
       "      <td>120</td>\n",
       "      <td>order id 10718 ship detail ship name königlich...</td>\n",
       "    </tr>\n",
       "    <tr>\n",
       "      <th>1</th>\n",
       "      <td>invoice order id  10707 customer id  arout ord...</td>\n",
       "      <td>invoice</td>\n",
       "      <td>66</td>\n",
       "      <td>invoic order id 10707 custom id arout order da...</td>\n",
       "    </tr>\n",
       "    <tr>\n",
       "      <th>2</th>\n",
       "      <td>order id  10448 shipping details  ship name  r...</td>\n",
       "      <td>ShippingOrder</td>\n",
       "      <td>96</td>\n",
       "      <td>order id 10448 ship detail ship name rancho gr...</td>\n",
       "    </tr>\n",
       "    <tr>\n",
       "      <th>3</th>\n",
       "      <td>invoice order id  11068 customer id  queen ord...</td>\n",
       "      <td>invoice</td>\n",
       "      <td>68</td>\n",
       "      <td>invoic order id 11068 custom id queen order da...</td>\n",
       "    </tr>\n",
       "    <tr>\n",
       "      <th>4</th>\n",
       "      <td>order id  10656 shipping details  ship name  g...</td>\n",
       "      <td>ShippingOrder</td>\n",
       "      <td>109</td>\n",
       "      <td>order id 10656 ship detail ship name great lak...</td>\n",
       "    </tr>\n",
       "    <tr>\n",
       "      <th>...</th>\n",
       "      <td>...</td>\n",
       "      <td>...</td>\n",
       "      <td>...</td>\n",
       "      <td>...</td>\n",
       "    </tr>\n",
       "    <tr>\n",
       "      <th>2671</th>\n",
       "      <td>order id  10326 shipping details  ship name  b...</td>\n",
       "      <td>ShippingOrder</td>\n",
       "      <td>111</td>\n",
       "      <td>order id 10326 ship detail ship name bólido co...</td>\n",
       "    </tr>\n",
       "    <tr>\n",
       "      <th>2672</th>\n",
       "      <td>purchase orders order id order date customer n...</td>\n",
       "      <td>purchase Order</td>\n",
       "      <td>39</td>\n",
       "      <td>purchas order order id order date custom name ...</td>\n",
       "    </tr>\n",
       "    <tr>\n",
       "      <th>2673</th>\n",
       "      <td>invoice order id  10460 customer id  folko ord...</td>\n",
       "      <td>invoice</td>\n",
       "      <td>59</td>\n",
       "      <td>invoic order id 10460 custom id folko order da...</td>\n",
       "    </tr>\n",
       "    <tr>\n",
       "      <th>2674</th>\n",
       "      <td>stock report for 2018-01 category   meat poult...</td>\n",
       "      <td>report</td>\n",
       "      <td>46</td>\n",
       "      <td>stock report 201801 categori meat poultri id c...</td>\n",
       "    </tr>\n",
       "    <tr>\n",
       "      <th>2675</th>\n",
       "      <td>purchase orders order id order date customer n...</td>\n",
       "      <td>purchase Order</td>\n",
       "      <td>36</td>\n",
       "      <td>purchas order order id order date custom name ...</td>\n",
       "    </tr>\n",
       "  </tbody>\n",
       "</table>\n",
       "<p>2676 rows × 4 columns</p>\n",
       "</div>"
      ],
      "text/plain": [
       "                                                   text           label  \\\n",
       "0     order id  10718 shipping details  ship name  k...   ShippingOrder   \n",
       "1     invoice order id  10707 customer id  arout ord...         invoice   \n",
       "2     order id  10448 shipping details  ship name  r...   ShippingOrder   \n",
       "3     invoice order id  11068 customer id  queen ord...         invoice   \n",
       "4     order id  10656 shipping details  ship name  g...   ShippingOrder   \n",
       "...                                                 ...             ...   \n",
       "2671  order id  10326 shipping details  ship name  b...   ShippingOrder   \n",
       "2672  purchase orders order id order date customer n...  purchase Order   \n",
       "2673  invoice order id  10460 customer id  folko ord...         invoice   \n",
       "2674  stock report for 2018-01 category   meat poult...          report   \n",
       "2675  purchase orders order id order date customer n...  purchase Order   \n",
       "\n",
       "      word_count                                       Cleaned Text  \n",
       "0            120  order id 10718 ship detail ship name königlich...  \n",
       "1             66  invoic order id 10707 custom id arout order da...  \n",
       "2             96  order id 10448 ship detail ship name rancho gr...  \n",
       "3             68  invoic order id 11068 custom id queen order da...  \n",
       "4            109  order id 10656 ship detail ship name great lak...  \n",
       "...          ...                                                ...  \n",
       "2671         111  order id 10326 ship detail ship name bólido co...  \n",
       "2672          39  purchas order order id order date custom name ...  \n",
       "2673          59  invoic order id 10460 custom id folko order da...  \n",
       "2674          46  stock report 201801 categori meat poultri id c...  \n",
       "2675          36  purchas order order id order date custom name ...  \n",
       "\n",
       "[2676 rows x 4 columns]"
      ]
     },
     "execution_count": 2,
     "metadata": {},
     "output_type": "execute_result"
    }
   ],
   "source": [
    "import nltk\n",
    "from nltk.corpus import stopwords\n",
    "from nltk.stem import PorterStemmer\n",
    "import re\n",
    "\n",
    "nltk.download(\"stopwords\")\n",
    "\n",
    "stop_words = set(stopwords.words(\"english\"))\n",
    "stemmer = PorterStemmer()\n",
    "\n",
    "def clean_text(text):\n",
    "    text = text.lower()\n",
    "    text = re.sub(r\"[^\\w\\s]\", \"\", text)\n",
    "    text = re.sub(r\"\\s+\", \" \", text)\n",
    "    text = \" \".join([stemmer.stem(word) for word in text.split() if word not in stop_words])\n",
    "    return text\n",
    "\n",
    "df[\"Cleaned Text\"] = df[\"text\"].apply(clean_text)\n",
    "\n",
    "df\n"
   ]
  },
  {
   "cell_type": "code",
   "execution_count": 3,
   "id": "07f4d8df",
   "metadata": {},
   "outputs": [],
   "source": [
    "from sklearn.preprocessing import LabelEncoder\n",
    "\n",
    "label_encoder = LabelEncoder()\n",
    "df['label'] = label_encoder.fit_transform(df['label'])"
   ]
  },
  {
   "cell_type": "code",
   "execution_count": 4,
   "id": "32af7b85",
   "metadata": {},
   "outputs": [
    {
     "data": {
      "text/html": [
       "<div>\n",
       "<style scoped>\n",
       "    .dataframe tbody tr th:only-of-type {\n",
       "        vertical-align: middle;\n",
       "    }\n",
       "\n",
       "    .dataframe tbody tr th {\n",
       "        vertical-align: top;\n",
       "    }\n",
       "\n",
       "    .dataframe thead th {\n",
       "        text-align: right;\n",
       "    }\n",
       "</style>\n",
       "<table border=\"1\" class=\"dataframe\">\n",
       "  <thead>\n",
       "    <tr style=\"text-align: right;\">\n",
       "      <th></th>\n",
       "      <th>text</th>\n",
       "      <th>label</th>\n",
       "      <th>word_count</th>\n",
       "      <th>Cleaned Text</th>\n",
       "    </tr>\n",
       "  </thead>\n",
       "  <tbody>\n",
       "    <tr>\n",
       "      <th>0</th>\n",
       "      <td>order id  10718 shipping details  ship name  k...</td>\n",
       "      <td>0</td>\n",
       "      <td>120</td>\n",
       "      <td>order id 10718 ship detail ship name königlich...</td>\n",
       "    </tr>\n",
       "    <tr>\n",
       "      <th>1</th>\n",
       "      <td>invoice order id  10707 customer id  arout ord...</td>\n",
       "      <td>1</td>\n",
       "      <td>66</td>\n",
       "      <td>invoic order id 10707 custom id arout order da...</td>\n",
       "    </tr>\n",
       "    <tr>\n",
       "      <th>2</th>\n",
       "      <td>order id  10448 shipping details  ship name  r...</td>\n",
       "      <td>0</td>\n",
       "      <td>96</td>\n",
       "      <td>order id 10448 ship detail ship name rancho gr...</td>\n",
       "    </tr>\n",
       "    <tr>\n",
       "      <th>3</th>\n",
       "      <td>invoice order id  11068 customer id  queen ord...</td>\n",
       "      <td>1</td>\n",
       "      <td>68</td>\n",
       "      <td>invoic order id 11068 custom id queen order da...</td>\n",
       "    </tr>\n",
       "    <tr>\n",
       "      <th>4</th>\n",
       "      <td>order id  10656 shipping details  ship name  g...</td>\n",
       "      <td>0</td>\n",
       "      <td>109</td>\n",
       "      <td>order id 10656 ship detail ship name great lak...</td>\n",
       "    </tr>\n",
       "    <tr>\n",
       "      <th>...</th>\n",
       "      <td>...</td>\n",
       "      <td>...</td>\n",
       "      <td>...</td>\n",
       "      <td>...</td>\n",
       "    </tr>\n",
       "    <tr>\n",
       "      <th>2671</th>\n",
       "      <td>order id  10326 shipping details  ship name  b...</td>\n",
       "      <td>0</td>\n",
       "      <td>111</td>\n",
       "      <td>order id 10326 ship detail ship name bólido co...</td>\n",
       "    </tr>\n",
       "    <tr>\n",
       "      <th>2672</th>\n",
       "      <td>purchase orders order id order date customer n...</td>\n",
       "      <td>2</td>\n",
       "      <td>39</td>\n",
       "      <td>purchas order order id order date custom name ...</td>\n",
       "    </tr>\n",
       "    <tr>\n",
       "      <th>2673</th>\n",
       "      <td>invoice order id  10460 customer id  folko ord...</td>\n",
       "      <td>1</td>\n",
       "      <td>59</td>\n",
       "      <td>invoic order id 10460 custom id folko order da...</td>\n",
       "    </tr>\n",
       "    <tr>\n",
       "      <th>2674</th>\n",
       "      <td>stock report for 2018-01 category   meat poult...</td>\n",
       "      <td>3</td>\n",
       "      <td>46</td>\n",
       "      <td>stock report 201801 categori meat poultri id c...</td>\n",
       "    </tr>\n",
       "    <tr>\n",
       "      <th>2675</th>\n",
       "      <td>purchase orders order id order date customer n...</td>\n",
       "      <td>2</td>\n",
       "      <td>36</td>\n",
       "      <td>purchas order order id order date custom name ...</td>\n",
       "    </tr>\n",
       "  </tbody>\n",
       "</table>\n",
       "<p>2676 rows × 4 columns</p>\n",
       "</div>"
      ],
      "text/plain": [
       "                                                   text  label  word_count  \\\n",
       "0     order id  10718 shipping details  ship name  k...      0         120   \n",
       "1     invoice order id  10707 customer id  arout ord...      1          66   \n",
       "2     order id  10448 shipping details  ship name  r...      0          96   \n",
       "3     invoice order id  11068 customer id  queen ord...      1          68   \n",
       "4     order id  10656 shipping details  ship name  g...      0         109   \n",
       "...                                                 ...    ...         ...   \n",
       "2671  order id  10326 shipping details  ship name  b...      0         111   \n",
       "2672  purchase orders order id order date customer n...      2          39   \n",
       "2673  invoice order id  10460 customer id  folko ord...      1          59   \n",
       "2674  stock report for 2018-01 category   meat poult...      3          46   \n",
       "2675  purchase orders order id order date customer n...      2          36   \n",
       "\n",
       "                                           Cleaned Text  \n",
       "0     order id 10718 ship detail ship name königlich...  \n",
       "1     invoic order id 10707 custom id arout order da...  \n",
       "2     order id 10448 ship detail ship name rancho gr...  \n",
       "3     invoic order id 11068 custom id queen order da...  \n",
       "4     order id 10656 ship detail ship name great lak...  \n",
       "...                                                 ...  \n",
       "2671  order id 10326 ship detail ship name bólido co...  \n",
       "2672  purchas order order id order date custom name ...  \n",
       "2673  invoic order id 10460 custom id folko order da...  \n",
       "2674  stock report 201801 categori meat poultri id c...  \n",
       "2675  purchas order order id order date custom name ...  \n",
       "\n",
       "[2676 rows x 4 columns]"
      ]
     },
     "execution_count": 4,
     "metadata": {},
     "output_type": "execute_result"
    }
   ],
   "source": [
    "df"
   ]
  },
  {
   "cell_type": "code",
   "execution_count": 5,
   "id": "56cbe470",
   "metadata": {},
   "outputs": [],
   "source": [
    "from datasets import Dataset\n",
    "\n",
    "dataset = Dataset.from_pandas(df[[\"Cleaned Text\", \"label\"]])"
   ]
  },
  {
   "cell_type": "code",
   "execution_count": 6,
   "id": "77429e84",
   "metadata": {},
   "outputs": [
    {
     "data": {
      "text/plain": [
       "Dataset({\n",
       "    features: ['Cleaned Text', 'label'],\n",
       "    num_rows: 2676\n",
       "})"
      ]
     },
     "execution_count": 6,
     "metadata": {},
     "output_type": "execute_result"
    }
   ],
   "source": [
    "dataset"
   ]
  },
  {
   "cell_type": "code",
   "execution_count": 7,
   "id": "6ecf6899",
   "metadata": {},
   "outputs": [],
   "source": [
    "split_dataset = dataset.train_test_split(test_size = 0.2, seed = 42)\n",
    "\n",
    "train_texts = split_dataset['train']\n",
    "test_texts = split_dataset['test']"
   ]
  },
  {
   "cell_type": "code",
   "execution_count": 8,
   "id": "f65fd20e",
   "metadata": {},
   "outputs": [],
   "source": [
    "from transformers import AutoTokenizer"
   ]
  },
  {
   "cell_type": "code",
   "execution_count": 9,
   "id": "cf16e095",
   "metadata": {},
   "outputs": [
    {
     "data": {
      "application/vnd.jupyter.widget-view+json": {
       "model_id": "ca6dddbfd33e4550bfd3c0112a594f5c",
       "version_major": 2,
       "version_minor": 0
      },
      "text/plain": [
       "Map:   0%|          | 0/2140 [00:00<?, ? examples/s]"
      ]
     },
     "metadata": {},
     "output_type": "display_data"
    },
    {
     "data": {
      "application/vnd.jupyter.widget-view+json": {
       "model_id": "5b787fffef9b46c19fdd8f38fa964ac5",
       "version_major": 2,
       "version_minor": 0
      },
      "text/plain": [
       "Map:   0%|          | 0/536 [00:00<?, ? examples/s]"
      ]
     },
     "metadata": {},
     "output_type": "display_data"
    }
   ],
   "source": [
    "model_name = 'bert-base-uncased'\n",
    "tokenizer = AutoTokenizer.from_pretrained(model_name)\n",
    "\n",
    "def tokenize_function(examples):\n",
    "    return tokenizer(examples[\"Cleaned Text\"], padding='max_length', truncation=True, max_length = 128)\n",
    "\n",
    "train_dataset = train_texts.map(tokenize_function, batched = True)\n",
    "test_dataset = test_texts.map(tokenize_function, batched = True)\n",
    "\n",
    "train_dataset.set_format(type = 'torch', columns = ['input_ids','attention_mask', 'label'])\n",
    "test_dataset.set_format(type = 'torch', columns = ['input_ids','attention_mask', 'label'])"
   ]
  },
  {
   "cell_type": "code",
   "execution_count": 10,
   "id": "fd57f3b3",
   "metadata": {
    "scrolled": false
   },
   "outputs": [
    {
     "data": {
      "text/plain": [
       "{'label': tensor(2),\n",
       " 'input_ids': tensor([  101, 16405, 11140,  3022,  2344,  2344,  8909,  2344,  3058,  7661,\n",
       "          2171,  8746, 11387,  2418,  2692, 20958,  2683,  6285,  2050, 15214,\n",
       "         21007,  5054,  4031,  4031,  8909,  4031, 24110,  3775,  3775,  3131,\n",
       "          3976,  2484, 19739, 20486,  2050, 10392,  2050,  1022,  1018,  1019,\n",
       "          5187,  9300,  2627,  2072,  1019,  3590,  1022,  3931,  1015,   102,\n",
       "             0,     0,     0,     0,     0,     0,     0,     0,     0,     0,\n",
       "             0,     0,     0,     0,     0,     0,     0,     0,     0,     0,\n",
       "             0,     0,     0,     0,     0,     0,     0,     0,     0,     0,\n",
       "             0,     0,     0,     0,     0,     0,     0,     0,     0,     0,\n",
       "             0,     0,     0,     0,     0,     0,     0,     0,     0,     0,\n",
       "             0,     0,     0,     0,     0,     0,     0,     0,     0,     0,\n",
       "             0,     0,     0,     0,     0,     0,     0,     0,     0,     0,\n",
       "             0,     0,     0,     0,     0,     0,     0,     0]),\n",
       " 'attention_mask': tensor([1, 1, 1, 1, 1, 1, 1, 1, 1, 1, 1, 1, 1, 1, 1, 1, 1, 1, 1, 1, 1, 1, 1, 1,\n",
       "         1, 1, 1, 1, 1, 1, 1, 1, 1, 1, 1, 1, 1, 1, 1, 1, 1, 1, 1, 1, 1, 1, 1, 1,\n",
       "         1, 1, 0, 0, 0, 0, 0, 0, 0, 0, 0, 0, 0, 0, 0, 0, 0, 0, 0, 0, 0, 0, 0, 0,\n",
       "         0, 0, 0, 0, 0, 0, 0, 0, 0, 0, 0, 0, 0, 0, 0, 0, 0, 0, 0, 0, 0, 0, 0, 0,\n",
       "         0, 0, 0, 0, 0, 0, 0, 0, 0, 0, 0, 0, 0, 0, 0, 0, 0, 0, 0, 0, 0, 0, 0, 0,\n",
       "         0, 0, 0, 0, 0, 0, 0, 0])}"
      ]
     },
     "execution_count": 10,
     "metadata": {},
     "output_type": "execute_result"
    }
   ],
   "source": [
    "train_dataset[0]"
   ]
  },
  {
   "cell_type": "code",
   "execution_count": 11,
   "id": "ef68b9eb",
   "metadata": {},
   "outputs": [
    {
     "name": "stdout",
     "output_type": "stream",
     "text": [
      "WARNING:tensorflow:From C:\\Users\\dell\\AppData\\Local\\Programs\\Python\\Python312\\Lib\\site-packages\\tf_keras\\src\\losses.py:2976: The name tf.losses.sparse_softmax_cross_entropy is deprecated. Please use tf.compat.v1.losses.sparse_softmax_cross_entropy instead.\n",
      "\n"
     ]
    },
    {
     "name": "stderr",
     "output_type": "stream",
     "text": [
      "Some weights of BertForSequenceClassification were not initialized from the model checkpoint at bert-base-uncased and are newly initialized: ['classifier.bias', 'classifier.weight']\n",
      "You should probably TRAIN this model on a down-stream task to be able to use it for predictions and inference.\n",
      "C:\\Users\\dell\\AppData\\Local\\Temp\\ipykernel_4268\\3051607116.py:26: FutureWarning: `tokenizer` is deprecated and will be removed in version 5.0.0 for `Trainer.__init__`. Use `processing_class` instead.\n",
      "  trainer = Trainer(\n",
      "C:\\Users\\dell\\AppData\\Local\\Programs\\Python\\Python312\\Lib\\site-packages\\torch\\utils\\data\\dataloader.py:665: UserWarning: 'pin_memory' argument is set as true but no accelerator is found, then device pinned memory won't be used.\n",
      "  warnings.warn(warn_msg)\n"
     ]
    },
    {
     "data": {
      "text/html": [
       "\n",
       "    <div>\n",
       "      \n",
       "      <progress value='402' max='402' style='width:300px; height:20px; vertical-align: middle;'></progress>\n",
       "      [402/402 1:29:06, Epoch 3/3]\n",
       "    </div>\n",
       "    <table border=\"1\" class=\"dataframe\">\n",
       "  <thead>\n",
       " <tr style=\"text-align: left;\">\n",
       "      <th>Epoch</th>\n",
       "      <th>Training Loss</th>\n",
       "      <th>Validation Loss</th>\n",
       "      <th>Accuracy</th>\n",
       "      <th>F1</th>\n",
       "      <th>Precision</th>\n",
       "      <th>Recall</th>\n",
       "    </tr>\n",
       "  </thead>\n",
       "  <tbody>\n",
       "    <tr>\n",
       "      <td>1</td>\n",
       "      <td>No log</td>\n",
       "      <td>0.005296</td>\n",
       "      <td>1.000000</td>\n",
       "      <td>1.000000</td>\n",
       "      <td>1.000000</td>\n",
       "      <td>1.000000</td>\n",
       "    </tr>\n",
       "    <tr>\n",
       "      <td>2</td>\n",
       "      <td>No log</td>\n",
       "      <td>0.002355</td>\n",
       "      <td>1.000000</td>\n",
       "      <td>1.000000</td>\n",
       "      <td>1.000000</td>\n",
       "      <td>1.000000</td>\n",
       "    </tr>\n",
       "    <tr>\n",
       "      <td>3</td>\n",
       "      <td>No log</td>\n",
       "      <td>0.001932</td>\n",
       "      <td>1.000000</td>\n",
       "      <td>1.000000</td>\n",
       "      <td>1.000000</td>\n",
       "      <td>1.000000</td>\n",
       "    </tr>\n",
       "  </tbody>\n",
       "</table><p>"
      ],
      "text/plain": [
       "<IPython.core.display.HTML object>"
      ]
     },
     "metadata": {},
     "output_type": "display_data"
    },
    {
     "name": "stderr",
     "output_type": "stream",
     "text": [
      "C:\\Users\\dell\\AppData\\Local\\Programs\\Python\\Python312\\Lib\\site-packages\\torch\\utils\\data\\dataloader.py:665: UserWarning: 'pin_memory' argument is set as true but no accelerator is found, then device pinned memory won't be used.\n",
      "  warnings.warn(warn_msg)\n",
      "C:\\Users\\dell\\AppData\\Local\\Programs\\Python\\Python312\\Lib\\site-packages\\torch\\utils\\data\\dataloader.py:665: UserWarning: 'pin_memory' argument is set as true but no accelerator is found, then device pinned memory won't be used.\n",
      "  warnings.warn(warn_msg)\n"
     ]
    },
    {
     "data": {
      "text/plain": [
       "TrainOutput(global_step=402, training_loss=0.06508416322926383, metrics={'train_runtime': 5373.2552, 'train_samples_per_second': 1.195, 'train_steps_per_second': 0.075, 'total_flos': 422300827054080.0, 'train_loss': 0.06508416322926383, 'epoch': 3.0})"
      ]
     },
     "execution_count": 11,
     "metadata": {},
     "output_type": "execute_result"
    }
   ],
   "source": [
    "from transformers import AutoModelForSequenceClassification, TrainingArguments, Trainer\n",
    "from sklearn.metrics import accuracy_score, precision_recall_fscore_support\n",
    "\n",
    "# Load pre-trained BERT model\n",
    "model = AutoModelForSequenceClassification.from_pretrained(model_name, num_labels=len(label_encoder.classes_))\n",
    "\n",
    "training_args = TrainingArguments(\n",
    "    output_dir=\"./results\",\n",
    "    eval_strategy=\"epoch\",\n",
    "    save_strategy=\"epoch\",\n",
    "    learning_rate=2e-5,\n",
    "    per_device_train_batch_size=16,\n",
    "    per_device_eval_batch_size=16,\n",
    "    num_train_epochs=3,\n",
    "    weight_decay=0.01,\n",
    "    load_best_model_at_end=True,\n",
    ")\n",
    "\n",
    "def compute_metrics(eval_pred):\n",
    "    logits, labels = eval_pred\n",
    "    predictions = logits.argmax(axis=-1)\n",
    "    precision, recall, f1, _ = precision_recall_fscore_support(labels, predictions, average=\"weighted\")\n",
    "    acc = accuracy_score(labels, predictions)\n",
    "    return {\"accuracy\": acc, \"f1\": f1, \"precision\": precision, \"recall\": recall}\n",
    "\n",
    "trainer = Trainer(\n",
    "    model=model,\n",
    "    args=training_args,\n",
    "    train_dataset=train_dataset,\n",
    "    eval_dataset=test_dataset,\n",
    "    tokenizer=tokenizer,\n",
    "    compute_metrics=compute_metrics,\n",
    ")\n",
    "\n",
    "trainer.train()\n"
   ]
  },
  {
   "cell_type": "code",
   "execution_count": 13,
   "id": "95b966e1",
   "metadata": {},
   "outputs": [
    {
     "data": {
      "text/plain": [
       "('./model/tokenizer_config.json',\n",
       " './model/special_tokens_map.json',\n",
       " './model/vocab.txt',\n",
       " './model/added_tokens.json',\n",
       " './model/tokenizer.json')"
      ]
     },
     "execution_count": 13,
     "metadata": {},
     "output_type": "execute_result"
    }
   ],
   "source": [
    "import pickle\n",
    "\n",
    "model_save_path = './model/'\n",
    "model.save_pretrained(model_save_path)\n",
    "tokenizer.save_pretrained(model_save_path)"
   ]
  },
  {
   "cell_type": "code",
   "execution_count": 16,
   "id": "49383906",
   "metadata": {},
   "outputs": [
    {
     "name": "stdout",
     "output_type": "stream",
     "text": [
      "Model, tokenizer, and label encoder saved\n"
     ]
    }
   ],
   "source": [
    "import pickle\n",
    "\n",
    "label_encoder_path = './model/label_encoder.pkl'  # Add a filename\n",
    "with open(label_encoder_path, 'wb') as f:\n",
    "    pickle.dump(label_encoder, f)\n",
    "\n",
    "print(\"Model, tokenizer, and label encoder saved\")"
   ]
  },
  {
   "cell_type": "code",
   "execution_count": 18,
   "id": "172028ad",
   "metadata": {},
   "outputs": [
    {
     "name": "stdout",
     "output_type": "stream",
     "text": [
      "invoice\n"
     ]
    }
   ],
   "source": [
    "from transformers import AutoTokenizer, AutoModelForSequenceClassification\n",
    "import torch\n",
    "import numpy as np\n",
    "\n",
    "# Load fine-tuned model and tokenizer\n",
    "model_name = \"./model/\"  # Update with your saved model path\n",
    "tokenizer = AutoTokenizer.from_pretrained(model_name)\n",
    "model = AutoModelForSequenceClassification.from_pretrained(model_name)\n",
    "\n",
    "# Function for prediction\n",
    "def predict(text):\n",
    "    # Clean the input text (if you have a cleaning function)\n",
    "    text = clean_text(text)\n",
    "\n",
    "    # Tokenize the input text\n",
    "    inputs = tokenizer(text, return_tensors=\"pt\", padding=True, truncation=True, max_length=128)\n",
    "    \n",
    "        # Make prediction\n",
    "    with torch.no_grad():\n",
    "        outputs = model(**inputs)\n",
    "        logits = outputs.logits\n",
    "        predicted_class = torch.argmax(logits, dim=1).item()\n",
    "\n",
    "    # Convert scalar to array-like and return inverse transform\n",
    "    return label_encoder.inverse_transform([predicted_class])[0]  # Return the predicted class value\n",
    "\n",
    "# Example usage\n",
    "input_text = \"invoice order id 10707 customer id arout order date 2017-10-16 customer detail\"\n",
    "print(predict(input_text))\n",
    "\n"
   ]
  },
  {
   "cell_type": "code",
   "execution_count": null,
   "id": "2c54f748",
   "metadata": {},
   "outputs": [],
   "source": []
  }
 ],
 "metadata": {
  "kernelspec": {
   "display_name": "Python 3.12",
   "language": "python",
   "name": "python312"
  },
  "language_info": {
   "codemirror_mode": {
    "name": "ipython",
    "version": 3
   },
   "file_extension": ".py",
   "mimetype": "text/x-python",
   "name": "python",
   "nbconvert_exporter": "python",
   "pygments_lexer": "ipython3",
   "version": "3.12.8"
  }
 },
 "nbformat": 4,
 "nbformat_minor": 5
}
